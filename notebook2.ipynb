{
 "cells": [
  {
   "cell_type": "markdown",
   "metadata": {
    "colab_type": "text",
    "id": "9s1WadZGbd_Z"
   },
   "source": [
    "# Secondo Notebook"
   ]
  },
  {
   "cell_type": "markdown",
   "metadata": {},
   "source": [
    "Questo secondo notebook tratta un argomento decisamente più avanzato del precedente. L'obiettivo è quello di costruire un modello in grado di classificare i jet in base alle variabili ottenuti da un esperimento al rivelatore. Per la costruzione del modello useremo gli stessi dati del notebook precedente _(training set)_, per testarlo avremo a disposizione altri dati _(testing set)_.<br>\n",
    "Ovviamente i dati all'interno del training set sono già stati classificati, ricorderemo che per tali dati è sufficiente farsi restituire il valore della variabile 50 per sapere a quale categoria appartiene il jet in questione. Anche i dati del testing set sono già stati classificati: dopo aver \"istruito\" il modello con i dati nel training set, lo metteremo alla prova con i dati nel testing set, i quali verranno classificati come se non fossero noti e i risultati saranno confrontati con quelli veri, così avremo un'idea dell'efficienza del modello quando lo useremo per classificare dati non noti."
   ]
  },
  {
   "cell_type": "markdown",
   "metadata": {},
   "source": [
    "Facciamo ancora qualche considerazione sul testing set.<br>\n",
    "Come ricorderemo i dati sono divisi in otto categorie, la settima in particolare è la cosidetta _\"truth as integer\"_ ovvero \"verità come intero\", si ricorderà infatti che la variabile 50 (l'unica all'interno della settima categoria) è quella che classifica i jet, ovvero associa a ciascuno un numero intero (1, 4, 5, 21) e ad ogni numero intero corrisponde un tipo di jet.<br>"
   ]
  },
  {
   "cell_type": "markdown",
   "metadata": {},
   "source": [
    "Per capire come fa la variabile 50 a classificare i jet dobbiamo guardare alle cosiddette variabili _\"truth\"_, ovvero le variabili della sesta categoria (dalla 43 alla 49):\n",
    "43. \"isB*1\",\n",
    "44. \"isBB+isGBB\",\n",
    "45. \"isLeptonicB+isLeptonicB_C\",\n",
    "46. \"isC+isGCC+isCC\",\n",
    "47. \"isUD+isS\",\n",
    "48. \"isG*1\",\n",
    "49. \"isUndefined*1\"<br>"
   ]
  },
  {
   "cell_type": "markdown",
   "metadata": {},
   "source": [
    "Ciascuna di queste sette variabili possono assumere solo due valori: 0 o 1. In particolare, per ogni evento nel set di dati, soltanto una di queste sette variabili assume il valore 1 e tutte le altre sono 0. Leggendo i nomi non è difficile intuire che:\n",
    "* Le prime tre variabili stanno a significare: \"Questo jet contiene un quark b\"\n",
    "* La quarta: \"Questo jet contiene un quark c\"\n",
    "* La quinta: \"Questo jet contiene solo quark leggeri\"\n",
    "* La sesta: \"Questo è un jet gluonico\"\n",
    "* La settima: \"Questo jet non è definito\" (Non c'è nessun jet nel nostro set che abbia questa variabile uguale a 1)<br>\n",
    "Dunque sapendo quale di queste variabili ha valore 1 per un dato jet, sappiamo anche di che tipo di jet si tratti."
   ]
  },
  {
   "cell_type": "markdown",
   "metadata": {},
   "source": [
    "__Se che vogliamo che l'informazione sul tipo di jet sia rinchiusa in un'unica variabile (la 50) e non in sette differenti, come possiamo definire la variabile 50 partendo dalle sette precedenti?__"
   ]
  },
  {
   "cell_type": "markdown",
   "metadata": {},
   "source": [
    "__Soluzione:__<br>\n",
    "50. \"5x(isB+isBB+isGBB+isLeptonicB+isLeptonicB_C)+4x(isC+isGCC+isCC)+1x(isUD+isS)+21xisG+0xisUndefined\"<br>\n",
    "(I coefficienti sono arbitrari)"
   ]
  },
  {
   "cell_type": "markdown",
   "metadata": {},
   "source": [
    "Ora rimane una questione: Conoscendo il valore delle variabili truth sappiamo il tipo di jet. Nel caso di questo set di dati il valore di tali variabili è noto a priori e incluso nel set. In generale, lo scopo di un esperimento di tagging (ovvero il lavoro che andremo a fare sul testing set), è proprio quello di identificare i jet, ovvero assegnare i valori corretti alle variabili truth a partire dai risultati che otteniamo durante l'esperimento, i quali sono racchiusi nelle variabili del primo, secondo e terzo gruppo (quindi dalla 0 alla 15, esclusa la 6)."
   ]
  },
  {
   "cell_type": "markdown",
   "metadata": {},
   "source": [
    "Ci si potrebbe chiedere come mai non possiamo fare in modo che l'algoritmo ci restituisca direttamente il valore della variabile 50 anziché di altre 7 variabili. Il punto è che la rete neurale che vogliamo costruire si basa sul scegliere tra 7 categorie la più probabile.<br>\n",
    "Ovvero: _Per un dato evento, quale delle variabili truth è più probabile che abbia un valore pari a 1?_<br>\n",
    "Questo è un compito molto più semplice piuttosto che chiedere all'algoritmo di fissare il valore preciso di una variabile."
   ]
  },
  {
   "cell_type": "markdown",
   "metadata": {},
   "source": [
    "Lo scopo di questo notebook sarà proprio quello di sviluppare una rete neurale che ci permetta di assegnare dei valori alle variabili truth (non noti a priori), basandoci solo sui dati che si ottengono durante un esperimento ovvero sui valori delle variabili da 0 a 15.<br>\n",
    "In gergo si dice che, in questo caso, le Features sono le prime sedici variabili e i Target sono le variabili truth"
   ]
  },
  {
   "cell_type": "markdown",
   "metadata": {},
   "source": [
    "Iniziamo come prima importando i dati"
   ]
  },
  {
   "cell_type": "code",
   "execution_count": 1,
   "metadata": {
    "colab": {
     "base_uri": "https://localhost:8080/",
     "height": 332
    },
    "colab_type": "code",
    "executionInfo": {
     "elapsed": 6922,
     "status": "ok",
     "timestamp": 1574958894442,
     "user": {
      "displayName": "Leonardo Giannini",
      "photoUrl": "",
      "userId": "17020021302640739393"
     },
     "user_tz": -60
    },
    "id": "KGgOakJtr_kT",
    "outputId": "06eb074f-9fa0-42d2-f9e3-f61141498e77"
   },
   "outputs": [
    {
     "name": "stdout",
     "output_type": "stream",
     "text": [
      "File already downloaded\n"
     ]
    }
   ],
   "source": [
    "# Download the data from google drive\n",
    "\n",
    "import os\n",
    "if os.path.isfile('test93_0_20000.npz') :\n",
    "    print (\"File already downloaded\")\n",
    "else:\n",
    "    !wget --load-cookies /tmp/cookies.txt \"https://docs.google.com/uc?export=download&confirm=$(wget --quiet --save-cookies /tmp/cookies.txt --keep-session-cookies --no-check-certificate 'https://docs.google.com/uc?export=download&id=1RhxZfiQFp7GidUS_ayJADDdQM6OfG3ye' -O- | sed -rn 's/.*confirm=([0-9A-Za-z_]+).*/\\1\\n/p')&id=1RhxZfiQFp7GidUS_ayJADDdQM6OfG3ye\" -O test93_0_20000.npz && rm -rf /tmp/cookies.txt\n",
    "  \n"
   ]
  },
  {
   "cell_type": "code",
   "execution_count": 2,
   "metadata": {
    "colab": {
     "base_uri": "https://localhost:8080/",
     "height": 34
    },
    "colab_type": "code",
    "executionInfo": {
     "elapsed": 6906,
     "status": "ok",
     "timestamp": 1574958894452,
     "user": {
      "displayName": "Leonardo Giannini",
      "photoUrl": "",
      "userId": "17020021302640739393"
     },
     "user_tz": -60
    },
    "id": "y4_Aht8PrC_J",
    "outputId": "13a61455-5a60-4db1-ad53-5904867f4df5"
   },
   "outputs": [
    {
     "data": {
      "text/plain": [
       "['test93_20000_40000.npz', 'test93_0_20000.npz']"
      ]
     },
     "execution_count": 2,
     "metadata": {},
     "output_type": "execute_result"
    }
   ],
   "source": [
    "# checking that we have the data file\n",
    "\n",
    "os.path.isfile('test93_0_20000.npz')\n",
    "\n",
    "import glob\n",
    "glob.glob(\"*npz\")"
   ]
  },
  {
   "cell_type": "code",
   "execution_count": 3,
   "metadata": {
    "colab": {},
    "colab_type": "code",
    "id": "7pMcP1z2rHvE"
   },
   "outputs": [],
   "source": [
    "# loading a data file\n",
    "\n",
    "import numpy\n",
    "\n",
    "f=numpy.load(\"test93_0_20000.npz\")"
   ]
  },
  {
   "cell_type": "markdown",
   "metadata": {},
   "source": [
    "# Breve teoria sulle reti neurali"
   ]
  },
  {
   "cell_type": "markdown",
   "metadata": {},
   "source": [
    "Per capire in cosa consiste una rete neurale soffermiamoci nuovamente sull'obiettivo, o la _\"Task\"_ di questa rete in particolare:<br>\n",
    "_Date le 15 variabili che caratterizzano un jet voglio sapere a quale delle 6 categorie questo appartiene._<br>\n",
    "Dunque una rete neurale non è nient'altro che una funzione, questa prende in input 15 numeri e ne restituisce in output 6. Questi output sono 6 numeri compresi tra 0 e 1 e rappresentano la probabilità che il jet in questione appartenga a una data categoria. Se prendiamo il maggiore tra tutti e 6 gli output otteniamo la risposta.<br>\n",
    "_Attenzione:_ Questa NON è la risposta alla domanda \"a quale categoria appartiene il jet\", ma è la risposta alla domanda \"a quale categoria è più probabile che appartenga il jet\"."
   ]
  },
  {
   "cell_type": "markdown",
   "metadata": {},
   "source": [
    "Si intuisce che questa funzione, per prendere in input 15 numeri e restituirne 6, debba essere estremamente complicata e non ha il minimo senso pensare di costruirla a mano.<br>\n",
    "L'innovazione del Machine Learning sta proprio qui: nel modo innovativo in cui viene costruita la funzione cercata, ovvero _ipotizzando_ in partenza una possibile forma funzionale che poi viene perfezionata tramite la _sintonizzazione dei parametri_."
   ]
  },
  {
   "cell_type": "markdown",
   "metadata": {},
   "source": [
    "### Sintonizzazione dei parametri"
   ]
  },
  {
   "cell_type": "markdown",
   "metadata": {},
   "source": [
    "Per capire il concetto prendiamo una funzione semplicissima: _f(x) = a*x_<br>\n",
    "In questa funzione \"x\" è la variabile e \"a\" è il parametro.<br>\n",
    "Come abbiamo detto una rete neurale non è nient'altro che una funzione, possiamo quindi immaginare questa funzione f(x) come una rete neurale molto semplice. Sviluppiamo questa analogia nel seguente modo:\n",
    "* Immaginiamo di voler costruire una rete la cui task sia: _\"Dato un numero n voglio sapere quanto vale la metà di n\"_\n",
    "* Dobbiamo partire avendo un training set, data la semplicità del problema possiamo assumere che un set composto da un solo dato sia sufficiente. Prendiamo come training set il solo numero 2, di cui sappiamo la metà essere 1\n",
    "* Ipotizziamo una forma funzionale per la funzione che compirà questo task: f(x) = a*x<br>\n",
    "__Ragionare sopra il fatto che in questa analogia:__\n",
    "* __Features = {2};__\n",
    "* __Target = {f(2)} = {1}__<br>\n",
    "A questo punto la variabile del problema è diventata \"a\" o, meglio, \"a\" corrisponde al parametro da sintonizzare. Essenzialmente ora ci chiediamo: abbiamo ipotizzato una forma per f(x) che comprende un solo parametro (a) e sappiamo analizzando i dati nel training set che f(2) = 1, quale valore del parametro \"a\" consente questo? La risposta è ovviamente \"a = 1/2\". Abbiamo dunque sintonizzato l'unico parametro della nostra rete neurale e, mantenendo questa sintonizzazione sappiamo che qualsiasi valore in un ipotetico testing set a cui applicheremo la rete neurale ci darà la risposta corretta alla task."
   ]
  },
  {
   "cell_type": "markdown",
   "metadata": {},
   "source": [
    "OSS: In questo caso abbiamo concluso che \"per qualsiasi valore la risposta sarà corretta\" in quanto la task è molto semplice, generalmente si parla sempre di probabilità e non di certezze assolute."
   ]
  },
  {
   "cell_type": "markdown",
   "metadata": {},
   "source": [
    "Conclusione: Anche nella rete neurale che siamo interessati a sviluppare ricorreremo alla sintonizzazione dei parametri, con la differenza che in questo caso i parametri sono molti di più (dell'ordine dei 1000 o 10000).<br>"
   ]
  },
  {
   "cell_type": "markdown",
   "metadata": {},
   "source": [
    "### Funzione di perdita\n",
    "Essendo una situazione estremamente più complessa non possiamo pensare di trovare una data sintonizzazione tale per cui a ogni elemento nel set di training riusciamo a fare corrispondere il target corretto. Nei casi pratici bisogna scendere a compromessi e cercare la combinazione di parametri che permetta di minimizzare la differenza tra target ipotizzati e target veri. Questa differenza viene concretizzata nella cosiddetta \"Loss Function\" o \"Funzione di Perdita\", ovvero una funzione che prende in input tutti i parametri della rete neurale e restituisce in output un numero, il quale rappresenta la _perdita_. Ovviamente più il valore della funzione è basso e più i parametri che prende come input sono \"buoni\".<br>\n",
    "_\"All'atto pratico la sintonizzazione dei parametri si riduce a cercare il MINIMO GLOBALE della funzione di perdita\"_"
   ]
  },
  {
   "cell_type": "markdown",
   "metadata": {
    "colab_type": "text",
    "id": "emuqKM1crYNN"
   },
   "source": [
    "# Costruire il modello"
   ]
  },
  {
   "cell_type": "markdown",
   "metadata": {},
   "source": [
    "### Preparazione del set di dati"
   ]
  },
  {
   "cell_type": "markdown",
   "metadata": {},
   "source": [
    "Il modello ha bisogno di prendere in input sia le variabili note (Features) che le variabili \"obiettivo\" (Target). Ovviamente nella fase in cui si istruisce il modello le variabili Target sono note a priori.<br>"
   ]
  },
  {
   "cell_type": "code",
   "execution_count": 4,
   "metadata": {
    "colab": {},
    "colab_type": "code",
    "id": "NMhlM6hdr20K"
   },
   "outputs": [],
   "source": [
    "dataALL=f[\"arr_0\"]\n",
    "\n",
    "jetInfo=dataALL[:,[0,1,2,3,4,5,7,8,9,10,11,12,13,14,15]] #Features\n",
    "jetCategories=dataALL[:,43:49]                           #Target"
   ]
  },
  {
   "cell_type": "code",
   "execution_count": 5,
   "metadata": {},
   "outputs": [
    {
     "name": "stdout",
     "output_type": "stream",
     "text": [
      "(20000, 15) (20000, 6)\n"
     ]
    }
   ],
   "source": [
    "print(jetInfo.shape, jetCategories.shape)"
   ]
  },
  {
   "cell_type": "markdown",
   "metadata": {},
   "source": [
    "OSS: Ricordiamo che, nella sintassi di python, scrivendo 43:49 includiamo la 43 ed escludiamo la 49, quindi consideriamo come Target solo le variabili da 43 a 48 e infatti la forma è (20000,6). Questo perché come abbiamo visto nel notebook precedente non c'è nessun evento classificato come \"indefinito\" quindi non c'è alcun modo in cui l'algoritmo possa \"imparare\" a classificare certi tipi di jet come indefiniti. Allora tanto vale togliere la categoria."
   ]
  },
  {
   "cell_type": "markdown",
   "metadata": {
    "colab_type": "text",
    "id": "ibkIB_FyrmS3"
   },
   "source": [
    "### Definire la struttura del modello"
   ]
  },
  {
   "cell_type": "markdown",
   "metadata": {},
   "source": [
    "La definizione della struttura è una parte fondamentale che determina l'efficienza della rete. Non ci soffermeremo su ogni singola linea di codice ma solo sugli aspetti più globali e interessanti."
   ]
  },
  {
   "cell_type": "code",
   "execution_count": 6,
   "metadata": {
    "colab": {
     "base_uri": "https://localhost:8080/",
     "height": 81
    },
    "colab_type": "code",
    "executionInfo": {
     "elapsed": 8778,
     "status": "ok",
     "timestamp": 1574958896368,
     "user": {
      "displayName": "Leonardo Giannini",
      "photoUrl": "",
      "userId": "17020021302640739393"
     },
     "user_tz": -60
    },
    "id": "Su5LOAZ5tL4S",
    "outputId": "d31b9e70-2ed8-4924-95d9-2af9fc199158"
   },
   "outputs": [
    {
     "name": "stderr",
     "output_type": "stream",
     "text": [
      "Using TensorFlow backend.\n"
     ]
    }
   ],
   "source": [
    "# keras imports\n",
    "from keras.models import Model\n",
    "from keras.layers import Dense, Input, Conv2D, Dropout, Flatten, Concatenate, Reshape, BatchNormalization\n",
    "from keras.layers import MaxPooling2D, MaxPooling3D"
   ]
  },
  {
   "cell_type": "markdown",
   "metadata": {},
   "source": [
    "Cercare il minimo globale di una funzione di migliaia di variabili non è certo un compito facile. Il funzionamento degli algoritmi che eseguono questo compito dipende da diversi parametri che possono venire modificati manualmente. Tre dei principali sono riportati nella cella sottostante.<br>\n",
    "Ci soffermeremo sul significato di \"n_epochs\": Significa letteralmente \"numero di epoche\", essenzialmente un epoca equivale a un iterazione su tutto il training set, l'algoritmo ne esegue diverse di iterazioni ogni volta cercando nuove strade per ridurre la funzione di perdita e affinando sempre di più la sintonizzazione dei parametri. Quante iterazioni esegue sul training set è dato proprio da n_epochs."
   ]
  },
  {
   "cell_type": "code",
   "execution_count": 7,
   "metadata": {
    "colab": {},
    "colab_type": "code",
    "id": "ZV3YVkTxtxyL"
   },
   "outputs": [],
   "source": [
    "batch_size = 512               \n",
    "n_epochs = 500\n",
    "dropoutRate = 0.25"
   ]
  },
  {
   "cell_type": "markdown",
   "metadata": {},
   "source": [
    "La struttura di una rete neurale è fatta a strati, o layer. Nel primo strato (input layer) andranno caricate le Features e nell'ultimo strato (output layer) i Target. In mezzo si trovano altri strati: aggiungere più strati significa sostanzialmente aggiungere più parametri alla funzione. Il numero di strati (nonché la loro dimensione) non è mai noto a priori in un problema di deep learning, occorre sperimentare con varie combinazioni fino a trovare quella che ci da i risultati migliori."
   ]
  },
  {
   "cell_type": "code",
   "execution_count": 8,
   "metadata": {
    "colab": {
     "base_uri": "https://localhost:8080/",
     "height": 228
    },
    "colab_type": "code",
    "executionInfo": {
     "elapsed": 8758,
     "status": "ok",
     "timestamp": 1574958896392,
     "user": {
      "displayName": "Leonardo Giannini",
      "photoUrl": "",
      "userId": "17020021302640739393"
     },
     "user_tz": -60
    },
    "id": "CNMi0Dywt2Zu",
    "outputId": "8fbbf745-0c29-43e5-e88a-3ac82f857ac8"
   },
   "outputs": [
    {
     "name": "stderr",
     "output_type": "stream",
     "text": [
      "WARNING: Logging before flag parsing goes to stderr.\n",
      "W1027 15:09:23.270537 139948793702208 deprecation_wrapper.py:119] From /opt/conda/lib/python3.7/site-packages/keras/backend/tensorflow_backend.py:74: The name tf.get_default_graph is deprecated. Please use tf.compat.v1.get_default_graph instead.\n",
      "\n",
      "W1027 15:09:23.287785 139948793702208 deprecation_wrapper.py:119] From /opt/conda/lib/python3.7/site-packages/keras/backend/tensorflow_backend.py:517: The name tf.placeholder is deprecated. Please use tf.compat.v1.placeholder instead.\n",
      "\n",
      "W1027 15:09:23.423945 139948793702208 deprecation_wrapper.py:119] From /opt/conda/lib/python3.7/site-packages/keras/backend/tensorflow_backend.py:133: The name tf.placeholder_with_default is deprecated. Please use tf.compat.v1.placeholder_with_default instead.\n",
      "\n",
      "W1027 15:09:23.439750 139948793702208 deprecation_wrapper.py:119] From /opt/conda/lib/python3.7/site-packages/keras/backend/tensorflow_backend.py:4138: The name tf.random_uniform is deprecated. Please use tf.random.uniform instead.\n",
      "\n",
      "W1027 15:09:23.455750 139948793702208 deprecation.py:506] From /opt/conda/lib/python3.7/site-packages/keras/backend/tensorflow_backend.py:3445: calling dropout (from tensorflow.python.ops.nn_ops) with keep_prob is deprecated and will be removed in a future version.\n",
      "Instructions for updating:\n",
      "Please use `rate` instead of `keep_prob`. Rate should be set to `rate = 1 - keep_prob`.\n"
     ]
    }
   ],
   "source": [
    "inputLayer = Input(shape=(15,))\n",
    "x = BatchNormalization()(inputLayer)\n",
    "####\n",
    "x = Dense(30, activation='relu')(x)\n",
    "x = Dropout(rate=dropoutRate)(x)\n",
    "x = Dense(30, activation='relu')(x)\n",
    "x = Dropout(rate=dropoutRate)(x)\n",
    "####\n",
    "x = Dense(20, activation='relu')(x)\n",
    "x = Dropout(rate=dropoutRate)(x)\n",
    "####\n",
    "x = Dense(10, activation='relu')(x)\n",
    "x = Dropout(rate=dropoutRate)(x)\n",
    "####\n",
    "outputLayer = Dense(6, activation='softmax')(x)\n",
    "####\n",
    "model = Model(inputs=inputLayer, outputs=outputLayer)"
   ]
  },
  {
   "cell_type": "code",
   "execution_count": 9,
   "metadata": {
    "colab": {
     "base_uri": "https://localhost:8080/",
     "height": 607
    },
    "colab_type": "code",
    "executionInfo": {
     "elapsed": 9172,
     "status": "ok",
     "timestamp": 1574958896820,
     "user": {
      "displayName": "Leonardo Giannini",
      "photoUrl": "",
      "userId": "17020021302640739393"
     },
     "user_tz": -60
    },
    "id": "zpHRe4yOu5OR",
    "outputId": "1a32a680-e4a8-42a1-bbff-b195146b9974"
   },
   "outputs": [
    {
     "name": "stderr",
     "output_type": "stream",
     "text": [
      "W1027 15:09:23.552619 139948793702208 deprecation_wrapper.py:119] From /opt/conda/lib/python3.7/site-packages/keras/optimizers.py:790: The name tf.train.Optimizer is deprecated. Please use tf.compat.v1.train.Optimizer instead.\n",
      "\n",
      "W1027 15:09:23.576412 139948793702208 deprecation_wrapper.py:119] From /opt/conda/lib/python3.7/site-packages/keras/backend/tensorflow_backend.py:3295: The name tf.log is deprecated. Please use tf.math.log instead.\n",
      "\n"
     ]
    },
    {
     "name": "stdout",
     "output_type": "stream",
     "text": [
      "_________________________________________________________________\n",
      "Layer (type)                 Output Shape              Param #   \n",
      "=================================================================\n",
      "input_1 (InputLayer)         (None, 15)                0         \n",
      "_________________________________________________________________\n",
      "batch_normalization_1 (Batch (None, 15)                60        \n",
      "_________________________________________________________________\n",
      "dense_1 (Dense)              (None, 30)                480       \n",
      "_________________________________________________________________\n",
      "dropout_1 (Dropout)          (None, 30)                0         \n",
      "_________________________________________________________________\n",
      "dense_2 (Dense)              (None, 30)                930       \n",
      "_________________________________________________________________\n",
      "dropout_2 (Dropout)          (None, 30)                0         \n",
      "_________________________________________________________________\n",
      "dense_3 (Dense)              (None, 20)                620       \n",
      "_________________________________________________________________\n",
      "dropout_3 (Dropout)          (None, 20)                0         \n",
      "_________________________________________________________________\n",
      "dense_4 (Dense)              (None, 10)                210       \n",
      "_________________________________________________________________\n",
      "dropout_4 (Dropout)          (None, 10)                0         \n",
      "_________________________________________________________________\n",
      "dense_5 (Dense)              (None, 6)                 66        \n",
      "=================================================================\n",
      "Total params: 2,366\n",
      "Trainable params: 2,336\n",
      "Non-trainable params: 30\n",
      "_________________________________________________________________\n"
     ]
    }
   ],
   "source": [
    "model.compile(loss='categorical_crossentropy', optimizer='adam')\n",
    "model.summary()"
   ]
  },
  {
   "cell_type": "markdown",
   "metadata": {},
   "source": [
    "Qui sopra c'è uno schema della rete riassuntivo, il numero totale di parametri da sintonizzare, in questo caso, è 2336."
   ]
  },
  {
   "cell_type": "markdown",
   "metadata": {
    "colab_type": "text",
    "id": "szTvLXvKr1SP"
   },
   "source": [
    "### Istruire il modello"
   ]
  },
  {
   "cell_type": "code",
   "execution_count": 10,
   "metadata": {
    "colab": {},
    "colab_type": "code",
    "id": "uYDVVGOfvFXM"
   },
   "outputs": [],
   "source": [
    "from keras.callbacks import EarlyStopping, ReduceLROnPlateau, TerminateOnNaN # A cosa servono?"
   ]
  },
  {
   "cell_type": "markdown",
   "metadata": {},
   "source": [
    "Dopo aver creato la struttura della rete, è il momento di inserire i dati del training set (Features e Target) e lasciare che il modello \"impari\"."
   ]
  },
  {
   "cell_type": "code",
   "execution_count": 11,
   "metadata": {
    "colab": {
     "base_uri": "https://localhost:8080/",
     "height": 1000
    },
    "colab_type": "code",
    "executionInfo": {
     "elapsed": 17392,
     "status": "ok",
     "timestamp": 1574958905070,
     "user": {
      "displayName": "Leonardo Giannini",
      "photoUrl": "",
      "userId": "17020021302640739393"
     },
     "user_tz": -60
    },
    "id": "cVhpt1sDu8pI",
    "outputId": "84db08d4-9024-4828-b334-1e3736c39cda"
   },
   "outputs": [
    {
     "name": "stderr",
     "output_type": "stream",
     "text": [
      "W1027 15:09:23.675706 139948793702208 deprecation.py:323] From /opt/conda/lib/python3.7/site-packages/tensorflow/python/ops/math_grad.py:1250: add_dispatch_support.<locals>.wrapper (from tensorflow.python.ops.array_ops) is deprecated and will be removed in a future version.\n",
      "Instructions for updating:\n",
      "Use tf.where in 2.0, which has the same broadcast rule as np.where\n"
     ]
    },
    {
     "name": "stdout",
     "output_type": "stream",
     "text": [
      "Train on 14000 samples, validate on 6000 samples\n",
      "Epoch 1/500\n",
      " - 1s - loss: 1.7978 - val_loss: 1.6810\n",
      "Epoch 2/500\n",
      " - 0s - loss: 1.6172 - val_loss: 1.4765\n",
      "Epoch 3/500\n",
      " - 0s - loss: 1.4531 - val_loss: 1.2949\n",
      "Epoch 4/500\n",
      " - 0s - loss: 1.3551 - val_loss: 1.2251\n",
      "Epoch 5/500\n",
      " - 0s - loss: 1.3032 - val_loss: 1.1948\n",
      "Epoch 6/500\n",
      " - 0s - loss: 1.2691 - val_loss: 1.1757\n",
      "Epoch 7/500\n",
      " - 0s - loss: 1.2489 - val_loss: 1.1671\n",
      "Epoch 8/500\n",
      " - 0s - loss: 1.2384 - val_loss: 1.1594\n",
      "Epoch 9/500\n",
      " - 0s - loss: 1.2281 - val_loss: 1.1513\n",
      "Epoch 10/500\n",
      " - 0s - loss: 1.2189 - val_loss: 1.1521\n",
      "Epoch 11/500\n",
      " - 0s - loss: 1.2039 - val_loss: 1.1378\n",
      "Epoch 12/500\n",
      " - 0s - loss: 1.2030 - val_loss: 1.1357\n",
      "Epoch 13/500\n",
      " - 0s - loss: 1.1942 - val_loss: 1.1334\n",
      "Epoch 14/500\n",
      " - 0s - loss: 1.1876 - val_loss: 1.1286\n",
      "Epoch 15/500\n",
      " - 0s - loss: 1.1796 - val_loss: 1.1263\n",
      "Epoch 16/500\n",
      " - 0s - loss: 1.1754 - val_loss: 1.1227\n",
      "Epoch 17/500\n",
      " - 0s - loss: 1.1633 - val_loss: 1.1204\n",
      "Epoch 18/500\n",
      " - 0s - loss: 1.1671 - val_loss: 1.1181\n",
      "Epoch 19/500\n",
      " - 0s - loss: 1.1597 - val_loss: 1.1121\n",
      "Epoch 20/500\n",
      " - 0s - loss: 1.1555 - val_loss: 1.1123\n",
      "Epoch 21/500\n",
      " - 0s - loss: 1.1489 - val_loss: 1.1104\n",
      "Epoch 22/500\n",
      " - 0s - loss: 1.1475 - val_loss: 1.1060\n",
      "Epoch 23/500\n",
      " - 0s - loss: 1.1470 - val_loss: 1.1024\n",
      "Epoch 24/500\n",
      " - 0s - loss: 1.1415 - val_loss: 1.0997\n",
      "Epoch 25/500\n",
      " - 0s - loss: 1.1392 - val_loss: 1.0974\n",
      "Epoch 26/500\n",
      " - 0s - loss: 1.1373 - val_loss: 1.0954\n",
      "Epoch 27/500\n",
      " - 0s - loss: 1.1405 - val_loss: 1.0937\n",
      "Epoch 28/500\n",
      " - 0s - loss: 1.1357 - val_loss: 1.0923\n",
      "Epoch 29/500\n",
      " - 0s - loss: 1.1261 - val_loss: 1.0889\n",
      "Epoch 30/500\n",
      " - 0s - loss: 1.1287 - val_loss: 1.0877\n",
      "Epoch 31/500\n",
      " - 0s - loss: 1.1266 - val_loss: 1.0875\n",
      "Epoch 32/500\n",
      " - 0s - loss: 1.1208 - val_loss: 1.0856\n",
      "Epoch 33/500\n",
      " - 0s - loss: 1.1233 - val_loss: 1.0844\n",
      "Epoch 34/500\n",
      " - 0s - loss: 1.1165 - val_loss: 1.0826\n",
      "Epoch 35/500\n",
      " - 0s - loss: 1.1180 - val_loss: 1.0816\n",
      "Epoch 36/500\n",
      " - 0s - loss: 1.1197 - val_loss: 1.0818\n",
      "Epoch 37/500\n",
      " - 0s - loss: 1.1109 - val_loss: 1.0802\n",
      "Epoch 38/500\n",
      " - 0s - loss: 1.1130 - val_loss: 1.0787\n",
      "Epoch 39/500\n",
      " - 0s - loss: 1.1103 - val_loss: 1.0776\n",
      "Epoch 40/500\n",
      " - 0s - loss: 1.1094 - val_loss: 1.0768\n",
      "Epoch 41/500\n",
      " - 0s - loss: 1.1084 - val_loss: 1.0760\n",
      "Epoch 42/500\n",
      " - 0s - loss: 1.1055 - val_loss: 1.0752\n",
      "Epoch 43/500\n",
      " - 0s - loss: 1.1015 - val_loss: 1.0737\n",
      "Epoch 44/500\n",
      " - 0s - loss: 1.1047 - val_loss: 1.0740\n",
      "Epoch 45/500\n",
      " - 0s - loss: 1.1012 - val_loss: 1.0739\n",
      "\n",
      "Epoch 00045: ReduceLROnPlateau reducing learning rate to 0.00010000000474974513.\n",
      "Epoch 46/500\n",
      " - 0s - loss: 1.0989 - val_loss: 1.0733\n",
      "Epoch 47/500\n",
      " - 0s - loss: 1.1034 - val_loss: 1.0731\n",
      "Epoch 48/500\n",
      " - 0s - loss: 1.0999 - val_loss: 1.0728\n",
      "Epoch 49/500\n",
      " - 0s - loss: 1.1008 - val_loss: 1.0726\n",
      "Epoch 50/500\n",
      " - 0s - loss: 1.0979 - val_loss: 1.0726\n",
      "Epoch 51/500\n",
      " - 0s - loss: 1.0996 - val_loss: 1.0726\n",
      "\n",
      "Epoch 00051: ReduceLROnPlateau reducing learning rate to 1.0000000474974514e-05.\n",
      "Epoch 52/500\n",
      " - 0s - loss: 1.1020 - val_loss: 1.0726\n",
      "Epoch 53/500\n",
      " - 0s - loss: 1.0996 - val_loss: 1.0726\n",
      "\n",
      "Epoch 00053: ReduceLROnPlateau reducing learning rate to 1.0000000656873453e-06.\n",
      "Epoch 54/500\n",
      " - 0s - loss: 1.1004 - val_loss: 1.0726\n",
      "Epoch 55/500\n",
      " - 0s - loss: 1.0997 - val_loss: 1.0726\n",
      "\n",
      "Epoch 00055: ReduceLROnPlateau reducing learning rate to 1.0000001111620805e-07.\n",
      "Epoch 56/500\n",
      " - 0s - loss: 1.1076 - val_loss: 1.0726\n",
      "Epoch 57/500\n",
      " - 0s - loss: 1.1001 - val_loss: 1.0726\n",
      "\n",
      "Epoch 00057: ReduceLROnPlateau reducing learning rate to 1.000000082740371e-08.\n",
      "Epoch 58/500\n",
      " - 0s - loss: 1.0984 - val_loss: 1.0726\n",
      "Epoch 59/500\n",
      " - 0s - loss: 1.1043 - val_loss: 1.0726\n",
      "\n",
      "Epoch 00059: ReduceLROnPlateau reducing learning rate to 1.000000082740371e-09.\n",
      "Epoch 60/500\n",
      " - 0s - loss: 1.0988 - val_loss: 1.0726\n",
      "Epoch 00060: early stopping\n"
     ]
    }
   ],
   "source": [
    "# train \n",
    "history = model.fit(jetInfo, jetCategories, epochs=n_epochs, batch_size=batch_size, verbose = 2,\n",
    "                validation_split=0.3,\n",
    "                callbacks = [\n",
    "                EarlyStopping(monitor='val_loss', patience=10, verbose=1),\n",
    "                ReduceLROnPlateau(monitor='val_loss', factor=0.1, patience=2, verbose=1),\n",
    "                TerminateOnNaN()])"
   ]
  },
  {
   "cell_type": "markdown",
   "metadata": {},
   "source": [
    "Questo è un grafico dell'andamento della funzione di perdita in funzione dell'epoca. Si può notare che la funzione si è stabilizzata dopo circa la 50esima iterazione, questo vuol dire che non era necessario andare avanti fino alla 500esima e il processo si è fermato automaticamente (all'epoca 59)."
   ]
  },
  {
   "cell_type": "code",
   "execution_count": 12,
   "metadata": {
    "colab": {
     "base_uri": "https://localhost:8080/",
     "height": 295
    },
    "colab_type": "code",
    "executionInfo": {
     "elapsed": 1342,
     "status": "ok",
     "timestamp": 1574959493814,
     "user": {
      "displayName": "Leonardo Giannini",
      "photoUrl": "",
      "userId": "17020021302640739393"
     },
     "user_tz": -60
    },
    "id": "_2WLNQJFvijm",
    "outputId": "a5847d85-a64b-4e80-b72d-be9772fa1a4c"
   },
   "outputs": [
    {
     "data": {
      "text/plain": [
       "<Figure size 640x480 with 1 Axes>"
      ]
     },
     "metadata": {},
     "output_type": "display_data"
    }
   ],
   "source": [
    "from matplotlib import pyplot as plt\n",
    "\n",
    "plt.plot(history.history['loss'])\n",
    "plt.yscale('log')\n",
    "plt.title('Perdita')\n",
    "plt.ylabel('loss')\n",
    "plt.xlabel('epoch')\n",
    "plt.show()"
   ]
  },
  {
   "cell_type": "markdown",
   "metadata": {
    "colab_type": "text",
    "id": "SkSrOA3usU-C"
   },
   "source": [
    "# Valutare l'efficienza del modello"
   ]
  },
  {
   "cell_type": "markdown",
   "metadata": {},
   "source": [
    "Come preannunciato, per valutare l'efficienza del modello occorre caricare un nuovo set di dati, questa volta un testing set."
   ]
  },
  {
   "cell_type": "code",
   "execution_count": 13,
   "metadata": {
    "colab": {
     "base_uri": "https://localhost:8080/",
     "height": 332
    },
    "colab_type": "code",
    "executionInfo": {
     "elapsed": 4752,
     "status": "ok",
     "timestamp": 1574959569556,
     "user": {
      "displayName": "Leonardo Giannini",
      "photoUrl": "",
      "userId": "17020021302640739393"
     },
     "user_tz": -60
    },
    "id": "tlAhXyDOwPXF",
    "outputId": "69eb548e-9dbc-4036-9374-4d3eb4ee9eda"
   },
   "outputs": [
    {
     "name": "stdout",
     "output_type": "stream",
     "text": [
      "File already downloaded\n"
     ]
    }
   ],
   "source": [
    "# Loading now a test set\n",
    "\n",
    "# NB: training -vs- validation -vs test\n",
    "\n",
    "# file is at https://drive.google.com/file/d/192NLlG33MH8M3nHnvQQzvk0m32ct18TU/view?usp=sharing\n",
    "\n",
    "# Download the data from google drive\n",
    "\n",
    "if os.path.isfile('test93_20000_40000.npz') :\n",
    "    print (\"File already downloaded\")\n",
    "else:\n",
    "    !wget --load-cookies /tmp/cookies.txt \"https://docs.google.com/uc?export=download&confirm=$(wget --quiet --save-cookies /tmp/cookies.txt --keep-session-cookies --no-check-certificate 'https://docs.google.com/uc?export=download&id=192NLlG33MH8M3nHnvQQzvk0m32ct18TU' -O- | sed -rn 's/.*confirm=([0-9A-Za-z_]+).*/\\1\\n/p')&id=192NLlG33MH8M3nHnvQQzvk0m32ct18TU\" -O test93_20000_40000.npz && rm -rf /tmp/cookies.txt\n",
    "  \n",
    "os.path.isfile('test93_20000_40000.npz')\n",
    "glob.glob(\"*npz\")\n",
    "\n",
    "\n",
    "# Access the data and build arrays with the same data and format\n",
    "\n",
    "test=numpy.load(\"test93_20000_40000.npz\")\n",
    "\n",
    "testALL=test[\"arr_0\"]\n",
    "\n",
    "jetInfoTEST=testALL[:,[0,1,2,3,4,5,7,8,9,10,11,12,13,14,15]]\n",
    "jetCategoriesTEST=testALL[:,43:49]\n",
    "\n"
   ]
  },
  {
   "cell_type": "markdown",
   "metadata": {},
   "source": [
    "Guariamo a jetCategoriesTEST:"
   ]
  },
  {
   "cell_type": "code",
   "execution_count": 14,
   "metadata": {},
   "outputs": [
    {
     "data": {
      "text/plain": [
       "array([[0., 0., 0., 0., 0., 1.],\n",
       "       [0., 0., 0., 0., 0., 1.],\n",
       "       [0., 0., 0., 0., 0., 1.],\n",
       "       ...,\n",
       "       [1., 0., 0., 0., 0., 0.],\n",
       "       [0., 0., 0., 0., 0., 1.],\n",
       "       [0., 1., 0., 0., 0., 0.]])"
      ]
     },
     "execution_count": 14,
     "metadata": {},
     "output_type": "execute_result"
    }
   ],
   "source": [
    "jetCategoriesTEST"
   ]
  },
  {
   "cell_type": "markdown",
   "metadata": {},
   "source": [
    "Come ci aspettiamo si tratta di una matrice di 20000 righe. Per ogni riga, in base a dove casca l'uno, sappiamo a quale categoria appartiene l'evento corrispondente.<br>\n",
    "Ci ricorderemo però che le prime tre variabili della categoria \"truth\" rappresentano tutte degli adroni b che danno origine ai b-jet, dunque le vorremmo accorpare in un'unica categoria, facciamo così:"
   ]
  },
  {
   "cell_type": "code",
   "execution_count": 15,
   "metadata": {},
   "outputs": [],
   "source": [
    "summed=numpy.zeros((len(jetInfoTEST),4))\n",
    "summed[:,0]+=jetCategoriesTEST[:,0]\n",
    "summed[:,0]+=jetCategoriesTEST[:,1]\n",
    "summed[:,0]+=jetCategoriesTEST[:,2]\n",
    "summed[:,1]+=jetCategoriesTEST[:,3]\n",
    "summed[:,2]+=jetCategoriesTEST[:,4]\n",
    "summed[:,3]+=jetCategoriesTEST[:,5]"
   ]
  },
  {
   "cell_type": "markdown",
   "metadata": {},
   "source": [
    "(Abbiamo prima creato una matrice con tutti zeri di dimensioni 20000x4, poi abbiamo imposto che la prima colonna fosse data dalla somma delle prime tre colonne della matrice precedente, che la seconda fosse uguale alla quarta della matrice precedente eccetera...)"
   ]
  },
  {
   "cell_type": "code",
   "execution_count": 16,
   "metadata": {},
   "outputs": [
    {
     "data": {
      "text/plain": [
       "(20000, 4)"
      ]
     },
     "execution_count": 16,
     "metadata": {},
     "output_type": "execute_result"
    }
   ],
   "source": [
    "summed.shape"
   ]
  },
  {
   "cell_type": "code",
   "execution_count": 17,
   "metadata": {},
   "outputs": [
    {
     "data": {
      "text/plain": [
       "array([[0., 0., 0., 1.],\n",
       "       [0., 0., 0., 1.],\n",
       "       [0., 0., 0., 1.],\n",
       "       ...,\n",
       "       [1., 0., 0., 0.],\n",
       "       [0., 0., 0., 1.],\n",
       "       [1., 0., 0., 0.]])"
      ]
     },
     "execution_count": 17,
     "metadata": {},
     "output_type": "execute_result"
    }
   ],
   "source": [
    "summed"
   ]
  },
  {
   "cell_type": "markdown",
   "metadata": {},
   "source": [
    "Per mettere alla prova il modello è sufficiente usare il seguente comando:"
   ]
  },
  {
   "cell_type": "code",
   "execution_count": 18,
   "metadata": {
    "colab": {},
    "colab_type": "code",
    "id": "i5KH3RQkbeAK"
   },
   "outputs": [],
   "source": [
    "# Predict from model\n",
    "\n",
    "predict_test = model.predict(jetInfoTEST)\n"
   ]
  },
  {
   "cell_type": "markdown",
   "metadata": {},
   "source": [
    "Questo comando ci restituisce una matrice (\"predict_test\"):"
   ]
  },
  {
   "cell_type": "code",
   "execution_count": 19,
   "metadata": {},
   "outputs": [
    {
     "data": {
      "text/plain": [
       "(20000, 6)"
      ]
     },
     "execution_count": 19,
     "metadata": {},
     "output_type": "execute_result"
    }
   ],
   "source": [
    "predict_test.shape"
   ]
  },
  {
   "cell_type": "code",
   "execution_count": 20,
   "metadata": {},
   "outputs": [
    {
     "data": {
      "text/plain": [
       "array([[3.52104232e-02, 6.97988959e-04, 2.05522142e-02, 1.18188806e-01,\n",
       "        3.66088718e-01, 4.59261805e-01],\n",
       "       [2.98962928e-02, 9.71037487e-04, 1.57826021e-02, 1.11417405e-01,\n",
       "        2.88426071e-01, 5.53506672e-01],\n",
       "       [2.20570453e-02, 5.14214335e-04, 1.09164575e-02, 1.02821581e-01,\n",
       "        2.77526349e-01, 5.86164415e-01],\n",
       "       ...,\n",
       "       [2.96998620e-01, 8.20073709e-02, 1.81708440e-01, 1.37128904e-01,\n",
       "        6.81488514e-02, 2.34007791e-01],\n",
       "       [3.17246206e-02, 2.69558094e-03, 1.75571200e-02, 1.08925566e-01,\n",
       "        2.26095363e-01, 6.13001704e-01],\n",
       "       [3.03555697e-01, 6.96528330e-02, 1.78046033e-01, 1.38067752e-01,\n",
       "        7.79849365e-02, 2.32692719e-01]], dtype=float32)"
      ]
     },
     "execution_count": 20,
     "metadata": {},
     "output_type": "execute_result"
    }
   ],
   "source": [
    "predict_test"
   ]
  },
  {
   "cell_type": "markdown",
   "metadata": {},
   "source": [
    "In questa matrice ogni elemento corrisponde a una probabilità.<br>\n",
    "Ogni riga rappresenta un evento, ogni colonna rappresenta una categoria, quindi ogni elemento corrisponde alla probabilità che un evento appartenga a una certa categoria."
   ]
  },
  {
   "cell_type": "markdown",
   "metadata": {},
   "source": [
    "Vale però la stessa cosa di prima, ovvero questa è una 20000x6 ma noi abbiamo solo 4 categorie, questo perché le prime tre vanno accorpate in una unica:"
   ]
  },
  {
   "cell_type": "code",
   "execution_count": 21,
   "metadata": {},
   "outputs": [],
   "source": [
    "predict_test_summed=numpy.zeros((len(jetInfoTEST),4))\n",
    "predict_test_summed[:,0]+=predict_test[:,0]\n",
    "predict_test_summed[:,0]+=predict_test[:,1]\n",
    "predict_test_summed[:,0]+=predict_test[:,2]\n",
    "predict_test_summed[:,1]+=predict_test[:,3]\n",
    "predict_test_summed[:,2]+=predict_test[:,4]\n",
    "predict_test_summed[:,3]+=predict_test[:,5]"
   ]
  },
  {
   "cell_type": "code",
   "execution_count": 22,
   "metadata": {},
   "outputs": [
    {
     "data": {
      "text/plain": [
       "(20000, 4)"
      ]
     },
     "execution_count": 22,
     "metadata": {},
     "output_type": "execute_result"
    }
   ],
   "source": [
    "predict_test_summed.shape"
   ]
  },
  {
   "cell_type": "markdown",
   "metadata": {},
   "source": [
    "In questa matrice:\n",
    "* Prima colonna -> Probabilità di b-jet\n",
    "* Seconda colonna -> Probabilità di c-jet\n",
    "* Terza colonna -> Probabilità di jet leggero\n",
    "* Quarta colonna -> Probabilità di jet gluonico"
   ]
  },
  {
   "cell_type": "code",
   "execution_count": 23,
   "metadata": {},
   "outputs": [
    {
     "data": {
      "text/plain": [
       "array([[0.05646063, 0.11818881, 0.36608872, 0.4592618 ],\n",
       "       [0.04664993, 0.11141741, 0.28842607, 0.55350667],\n",
       "       [0.03348772, 0.10282158, 0.27752635, 0.58616441],\n",
       "       ...,\n",
       "       [0.56071443, 0.1371289 , 0.06814885, 0.23400779],\n",
       "       [0.05197732, 0.10892557, 0.22609536, 0.6130017 ],\n",
       "       [0.55125456, 0.13806775, 0.07798494, 0.23269272]])"
      ]
     },
     "execution_count": 23,
     "metadata": {},
     "output_type": "execute_result"
    }
   ],
   "source": [
    "predict_test_summed"
   ]
  },
  {
   "cell_type": "markdown",
   "metadata": {},
   "source": [
    "__Guardando questa matrice, scrivere la più probabile categoria di appartenenza dei jet adronici dall'80esimo al 90esimo secondo il modello da noi creato__"
   ]
  },
  {
   "cell_type": "markdown",
   "metadata": {},
   "source": [
    "__Verificare per quali tra quei jet il risultato predetto è corretto__<br>\n",
    "___Suggerimento: confrontare con i valori della matrice summed)___"
   ]
  },
  {
   "cell_type": "markdown",
   "metadata": {},
   "source": [
    "__Avete fatto il confronto per 11 dati, statisticamente potete fare un ipotesi sul fatto che il modello sia valido o meno?__"
   ]
  },
  {
   "cell_type": "markdown",
   "metadata": {
    "colab_type": "text",
    "id": "d4XoaUudtm-g"
   },
   "source": [
    "### Curve ROC"
   ]
  },
  {
   "cell_type": "code",
   "execution_count": 24,
   "metadata": {
    "colab": {},
    "colab_type": "code",
    "id": "Nk4dP1CNtP9o"
   },
   "outputs": [],
   "source": [
    "from sklearn.metrics import roc_curve, auc"
   ]
  },
  {
   "cell_type": "markdown",
   "metadata": {},
   "source": [
    "Come nel notebook precedente valutiamo l'efficienza con le curve ROC e le AUC.<br>\n",
    "Ricordiamo che:\n",
    "* summed contiene i dati delle categorie _vere_\n",
    "* predict_test_summed contiene i dati delle categorie _ipotizzate_<br>"
   ]
  },
  {
   "cell_type": "markdown",
   "metadata": {},
   "source": [
    "Vogliamo anche in questo caso quale dei seguenti compiti è adempito più efficacemente dal modello:\n",
    "* distinguere b-jet rispetto a tutti gli altri\n",
    "* distinguere b-jet rispetto ai jet leggeri e gluonici\n",
    "* distinguere b-jet rispetto ai c-jet<br>"
   ]
  },
  {
   "cell_type": "markdown",
   "metadata": {},
   "source": [
    "#### b-jet vs tutti"
   ]
  },
  {
   "cell_type": "markdown",
   "metadata": {},
   "source": [
    "Per il primo compito il vettore dei valori veri (quello che nell'altro notebook era \"isB\") deve essere (com'era \"isB\") un vettore di 20000 elementi booleani per cui vale: se l'elemento n-esimo è True allora il jet n-esimo è un b-jet, se è False NON è un b-jet."
   ]
  },
  {
   "cell_type": "markdown",
   "metadata": {},
   "source": [
    "Risulta facile convincersi che tale vettore è dato dalla prima colonna della matrice \"summed\":"
   ]
  },
  {
   "cell_type": "code",
   "execution_count": 25,
   "metadata": {},
   "outputs": [
    {
     "data": {
      "text/plain": [
       "array([0., 0., 0., ..., 1., 0., 1.])"
      ]
     },
     "execution_count": 25,
     "metadata": {},
     "output_type": "execute_result"
    }
   ],
   "source": [
    "summed[:,0]"
   ]
  },
  {
   "cell_type": "markdown",
   "metadata": {},
   "source": [
    "OSS: Nell'altro notebook gli elementi dei vettori coi valori veri erano del tipo {True, False}, in realtà in python i valori booleani possono venire espressi anche come {1, 0} dove 1 = True e 0 = False. Dunque anche se lasciassimo il vettore così com'è non avremmo nessun tipo di problema ma per coerenza col notebook precedente indichiamo:"
   ]
  },
  {
   "cell_type": "code",
   "execution_count": 26,
   "metadata": {},
   "outputs": [],
   "source": [
    "isB = summed[:,0]>0"
   ]
  },
  {
   "cell_type": "code",
   "execution_count": 27,
   "metadata": {},
   "outputs": [
    {
     "data": {
      "text/plain": [
       "array([False, False, False, ...,  True, False,  True])"
      ]
     },
     "execution_count": 27,
     "metadata": {},
     "output_type": "execute_result"
    }
   ],
   "source": [
    "isB"
   ]
  },
  {
   "cell_type": "markdown",
   "metadata": {},
   "source": [
    "Per il vettore con i valori ipotizzati selezioniamo semplicemente la prima colonna della matrice predict_test_summed:"
   ]
  },
  {
   "cell_type": "code",
   "execution_count": 28,
   "metadata": {},
   "outputs": [
    {
     "data": {
      "text/plain": [
       "array([0.05646063, 0.04664993, 0.03348772, ..., 0.56071443, 0.05197732,\n",
       "       0.55125456])"
      ]
     },
     "execution_count": 28,
     "metadata": {},
     "output_type": "execute_result"
    }
   ],
   "source": [
    "predict_test_summed[:,0]"
   ]
  },
  {
   "cell_type": "markdown",
   "metadata": {},
   "source": [
    "E ora ci facciamo dare la ROC:"
   ]
  },
  {
   "cell_type": "code",
   "execution_count": 29,
   "metadata": {},
   "outputs": [],
   "source": [
    "fpr, tpr, threshold = roc_curve(summed[:,0],predict_test_summed[:,0])\n",
    "auc1 = auc(fpr, tpr)"
   ]
  },
  {
   "cell_type": "markdown",
   "metadata": {},
   "source": [
    "#### b-jet vs leggeri, gluonici"
   ]
  },
  {
   "cell_type": "markdown",
   "metadata": {},
   "source": [
    "Costruiamo ora l'analogo di \"isBvsLG\", ovvero il vettore che contenga solo i b-jet, i jet leggeri e i gluonici ma NON i c-jet e per cui valga: se l'elemento n-esimo è True allora il jet n-esimo è un b-jet, se è False è o un jet leggero o un gluonico."
   ]
  },
  {
   "cell_type": "markdown",
   "metadata": {},
   "source": [
    "Dobbiamo imporre una condizione con le parentesi quadre. La condizione è, per ogni riga della matrice summed, se il secondo elemento (corrispondente alla probabilità di c-jet) è uguale a 1, allora la riga va eliminata. Analogamente tengo solo le righe per cui il secondo elemento è uguale a 0, quindi la condizione è:"
   ]
  },
  {
   "cell_type": "code",
   "execution_count": 30,
   "metadata": {},
   "outputs": [
    {
     "data": {
      "text/plain": [
       "array([ True,  True,  True, ...,  True,  True,  True])"
      ]
     },
     "execution_count": 30,
     "metadata": {},
     "output_type": "execute_result"
    }
   ],
   "source": [
    "summed[:,1]==0"
   ]
  },
  {
   "cell_type": "code",
   "execution_count": 31,
   "metadata": {},
   "outputs": [],
   "source": [
    "isBvsLG = summed[summed[:,1]==0]"
   ]
  },
  {
   "cell_type": "code",
   "execution_count": 32,
   "metadata": {},
   "outputs": [
    {
     "data": {
      "text/plain": [
       "(17916, 4)"
      ]
     },
     "execution_count": 32,
     "metadata": {},
     "output_type": "execute_result"
    }
   ],
   "source": [
    "isBvsLG.shape # Abbiamo tolto un po' più di 2000 eventi che erano c-jet"
   ]
  },
  {
   "cell_type": "markdown",
   "metadata": {},
   "source": [
    "Bisogna però togliere gli stessi elementi anche per i dati ipotizzati:"
   ]
  },
  {
   "cell_type": "code",
   "execution_count": 33,
   "metadata": {},
   "outputs": [],
   "source": [
    "predict_test_bl = predict_test_summed[summed[:,1]==0]"
   ]
  },
  {
   "cell_type": "code",
   "execution_count": 34,
   "metadata": {},
   "outputs": [
    {
     "data": {
      "text/plain": [
       "(17916, 4)"
      ]
     },
     "execution_count": 34,
     "metadata": {},
     "output_type": "execute_result"
    }
   ],
   "source": [
    "predict_test_bl.shape"
   ]
  },
  {
   "cell_type": "markdown",
   "metadata": {},
   "source": [
    "Ovviamente di entrambe queste matrici ci interessa solo la prima colonna, quella contenente le probabilità di b-jet."
   ]
  },
  {
   "cell_type": "code",
   "execution_count": 35,
   "metadata": {
    "colab": {
     "base_uri": "https://localhost:8080/",
     "height": 52
    },
    "colab_type": "code",
    "executionInfo": {
     "elapsed": 602,
     "status": "ok",
     "timestamp": 1574959652436,
     "user": {
      "displayName": "Leonardo Giannini",
      "photoUrl": "",
      "userId": "17020021302640739393"
     },
     "user_tz": -60
    },
    "id": "MSlKSoPTwrtq",
    "outputId": "178385d1-7fd3-4ad2-dff4-8195b4435b29"
   },
   "outputs": [],
   "source": [
    "fpr2, tpr2, threshold = roc_curve(isBvsLG[:,0],predict_test_bl[:,0])\n",
    "auc2 = auc(fpr2, tpr2)"
   ]
  },
  {
   "cell_type": "markdown",
   "metadata": {},
   "source": [
    "#### b-jet vs c-jet"
   ]
  },
  {
   "cell_type": "markdown",
   "metadata": {},
   "source": [
    "Per costruire l'analogo di \"isBvsC\" il procedimento è uguale a prima, ma ora dobbiamo rimuovere sia le righe di summed per cui il terzo elemento è uguale a 1 sia quelle per cui il quarto è uguale a 1, imponiamo le due condizioni una per volta:"
   ]
  },
  {
   "cell_type": "code",
   "execution_count": 36,
   "metadata": {},
   "outputs": [],
   "source": [
    "isBvsCG = summed[summed[:,2]==0]\n",
    "isBvsC = isBvsCG[isBvsCG[:,3]==0]"
   ]
  },
  {
   "cell_type": "code",
   "execution_count": 37,
   "metadata": {},
   "outputs": [
    {
     "data": {
      "text/plain": [
       "(4413, 4)"
      ]
     },
     "execution_count": 37,
     "metadata": {},
     "output_type": "execute_result"
    }
   ],
   "source": [
    "isBvsC.shape"
   ]
  },
  {
   "cell_type": "markdown",
   "metadata": {},
   "source": [
    "E analogamente per il vettore di ipotesi:"
   ]
  },
  {
   "cell_type": "code",
   "execution_count": 38,
   "metadata": {},
   "outputs": [],
   "source": [
    "predict_test_bcg = predict_test_summed[(summed[:,2]==0)]\n",
    "predict_test_bc = predict_test_bcg[isBvsCG[:,3]==0]"
   ]
  },
  {
   "cell_type": "code",
   "execution_count": 39,
   "metadata": {},
   "outputs": [
    {
     "data": {
      "text/plain": [
       "(4413, 4)"
      ]
     },
     "execution_count": 39,
     "metadata": {},
     "output_type": "execute_result"
    }
   ],
   "source": [
    "predict_test_bc.shape"
   ]
  },
  {
   "cell_type": "code",
   "execution_count": 40,
   "metadata": {},
   "outputs": [],
   "source": [
    "fpr3, tpr3, threshold = roc_curve(isBvsC[:,0],predict_test_bc[:,0])\n",
    "auc3 = auc(fpr3, tpr3)"
   ]
  },
  {
   "cell_type": "markdown",
   "metadata": {},
   "source": [
    "#### Conclusioni sulle ROC"
   ]
  },
  {
   "cell_type": "markdown",
   "metadata": {},
   "source": [
    "Osserviamo ora le AUC:"
   ]
  },
  {
   "cell_type": "code",
   "execution_count": 41,
   "metadata": {},
   "outputs": [
    {
     "name": "stdout",
     "output_type": "stream",
     "text": [
      "0.8630542811760561 0.8771755029313297 0.7574364867905217\n"
     ]
    }
   ],
   "source": [
    "print (auc1, auc2, auc3)"
   ]
  },
  {
   "cell_type": "markdown",
   "metadata": {},
   "source": [
    "__Cosa si può concludere sul modello? Viene verificata l'ipotesi statistica di prima basata su pochissimi dati?__"
   ]
  },
  {
   "cell_type": "code",
   "execution_count": 59,
   "metadata": {
    "colab": {
     "base_uri": "https://localhost:8080/",
     "height": 300
    },
    "colab_type": "code",
    "executionInfo": {
     "elapsed": 720,
     "status": "ok",
     "timestamp": 1574959657604,
     "user": {
      "displayName": "Leonardo Giannini",
      "photoUrl": "",
      "userId": "17020021302640739393"
     },
     "user_tz": -60
    },
    "id": "rHA3F1tut3mu",
    "outputId": "c1717ed8-120c-4815-f4d2-cf6bc5b8ffd3",
    "scrolled": true
   },
   "outputs": [
    {
     "data": {
      "text/plain": [
       "<matplotlib.legend.Legend at 0x7f47900bc6a0>"
      ]
     },
     "execution_count": 59,
     "metadata": {},
     "output_type": "execute_result"
    },
    {
     "data": {
      "image/png": "[encoded data removed]",
      "text/plain": [
       "<Figure size 432x288 with 1 Axes>"
      ]
     },
     "metadata": {
      "needs_background": "light"
     },
     "output_type": "display_data"
    }
   ],
   "source": [
    "plt.plot(tpr,fpr,label=\"vs all\")\n",
    "plt.plot(tpr2,fpr2,label=\"vs l\")\n",
    "plt.plot(tpr3,fpr3,label=\"vs c\")\n",
    "plt.xlabel(\"True Positive Rate\")\n",
    "plt.ylabel(\"False Positive Rate\")\n",
    "plt.ylim(0.0001,1)\n",
    "plt.grid(True)\n",
    "plt.legend(loc='lower right')\n"
   ]
  },
  {
   "cell_type": "markdown",
   "metadata": {},
   "source": [
    "__Guardando questo grafico, cercare le analogie con le ROC del notebook precedente__"
   ]
  },
  {
   "cell_type": "markdown",
   "metadata": {
    "colab_type": "text",
    "id": "TsjWx40Bujb_"
   },
   "source": [
    "# Matrice di confusione"
   ]
  },
  {
   "cell_type": "markdown",
   "metadata": {},
   "source": [
    "L'ultimo strumento che vediamo, il quale torna molto utile per visualizzare appieno l'efficienza di un modello, è la matrice di confusione."
   ]
  },
  {
   "cell_type": "markdown",
   "metadata": {},
   "source": [
    "Nelle due celle seguenti c'è il codice per generarla ma non ci fermeremo a studiarlo, guardiamo piuttosto cosa riusciamo a intuire dalla matrice stessa."
   ]
  },
  {
   "cell_type": "code",
   "execution_count": null,
   "metadata": {
    "colab": {},
    "colab_type": "code",
    "id": "bBWliUV1uipN"
   },
   "outputs": [],
   "source": [
    "import itertools\n",
    "def plot_confusion_matrix(cm, classes,\n",
    "                          normalize=False,\n",
    "                          title='Confusion matrix',\n",
    "                          cmap=plt.cm.Spectral):\n",
    "    \"\"\"\n",
    "    This function prints and plots the confusion matrix.\n",
    "    Normalization can be applied by setting `normalize=True`.\n",
    "    \"\"\"\n",
    "    if normalize:\n",
    "        cm = cm.astype('float') / cm.sum(axis=1)[:, numpy.newaxis]\n",
    "        print(\"Normalized confusion matrix\")\n",
    "    else:\n",
    "        print('Confusion matrix, without normalization')\n",
    "\n",
    "    print(cm)\n",
    "\n",
    "    plt.imshow(cm, interpolation='nearest', cmap=cmap)\n",
    "    plt.title(title)\n",
    "    plt.colorbar()\n",
    "    tick_marks = numpy.arange(len(classes)+1)-0.5\n",
    "    plt.xticks(tick_marks, classes, rotation=45)\n",
    "    plt.yticks(tick_marks, classes)\n",
    "\n",
    "    fmt = '.2f' if normalize else 'd'\n",
    "    thresh = cm.max() / 2.\n",
    "    for i, j in itertools.product(range(cm.shape[0]), range(cm.shape[1])):\n",
    "        plt.text(j, i, format(cm[i, j], fmt),\n",
    "                 horizontalalignment=\"center\",\n",
    "                 color=\"white\" if cm[i, j] > thresh else \"black\")\n",
    "\n",
    "    plt.tight_layout()\n",
    "    plt.ylabel('True label')\n",
    "    plt.xlabel('Predicted label')"
   ]
  },
  {
   "cell_type": "code",
   "execution_count": 44,
   "metadata": {
    "colab": {},
    "colab_type": "code",
    "id": "ga5wpIk8utyA",
    "scrolled": true
   },
   "outputs": [
    {
     "name": "stdout",
     "output_type": "stream",
     "text": [
      "Confusion matrix, without normalization\n",
      "[[ 1263     0    93   973]\n",
      " [  355     0   181  1548]\n",
      " [  217     0  1003  3153]\n",
      " [  513     0   497 10204]]\n"
     ]
    },
    {
     "data": {
      "image/png": "[encoded data removed]",
      "text/plain": [
       "<Figure size 432x288 with 2 Axes>"
      ]
     },
     "metadata": {
      "needs_background": "light"
     },
     "output_type": "display_data"
    }
   ],
   "source": [
    "from sklearn.metrics import confusion_matrix\n",
    "cnf_matrix = confusion_matrix(numpy.argmax(summed, axis=1), numpy.argmax(predict_test_summed, axis=1))\n",
    "numpy.set_printoptions(precision=2)\n",
    "# Plot non-normalized confusion matrix\n",
    "plt.figure()\n",
    "plot_confusion_matrix(cnf_matrix, classes=[\"b\",\"c\",\"l\",\"g\"],\n",
    "                      title='Confusion matrix, without normalization')\n",
    "\n"
   ]
  },
  {
   "cell_type": "markdown",
   "metadata": {},
   "source": [
    "Ignoriamo per ora la scala di colori (anche perché nella versione della matrice non normalizzata questa è totalmente inutile) e soffermiamoci sulle entrate della matrice.<br>\n",
    "Le righe sono etichettate come \"True label\" e le colonne come \"Predicted label\".<br>\n",
    "Soffermiamoci sulla prima riga della matrice:\n",
    "* se sommiamo tutti i numeri della prima riga otteniamo 2329 che è il numero totale di b-jet _veri_ che c'erano nel testing set;\n",
    "* di tutti gli eventi che erano veramente b-jet, solo 1263 sono stati correttamente ipotizzati dal modello;\n",
    "* per il resto, 0 di quelli sono stati erroneamente ipotizzati come c-jet;\n",
    "* 93 come jet leggeri;\n",
    "* 973 come jet gluonici;<br>\n",
    "Stesso discorso vale per tutte le righe della matrice.<br>\n",
    "Ovviamente, sulla diagonale della matrice compaiono i jet correttamente ipotizzati.<br>\n",
    "__Ricordando che in totale i jet sono 20000, calcolare la percentuale di jet correttamente ipotizzati dal modello__"
   ]
  },
  {
   "cell_type": "markdown",
   "metadata": {},
   "source": [
    "Salta sicuramente all'occhio il fatto che NESSUNO dei jet nel testing set è stato ipotizzato dal modello per essere un c-jet."
   ]
  },
  {
   "cell_type": "markdown",
   "metadata": {},
   "source": [
    "__Provare a verificare questa cosa studiando la matrice \"predict_test_summed\"__<br>\n",
    "___Suggerimento: bisogna verificare che in nessuna riga della matrice il secondo elemento è maggiore di tutti gli altri___"
   ]
  },
  {
   "cell_type": "markdown",
   "metadata": {},
   "source": [
    "Di seguito invece compare la versione normalizzata della matrice di confusione:"
   ]
  },
  {
   "cell_type": "code",
   "execution_count": 46,
   "metadata": {
    "colab": {},
    "colab_type": "code",
    "id": "PABoQyGIwudh"
   },
   "outputs": [
    {
     "name": "stdout",
     "output_type": "stream",
     "text": [
      "Normalized confusion matrix\n",
      "[[0.54 0.   0.04 0.42]\n",
      " [0.17 0.   0.09 0.74]\n",
      " [0.05 0.   0.23 0.72]\n",
      " [0.05 0.   0.04 0.91]]\n"
     ]
    },
    {
     "data": {
      "image/png": "[encoded data removed]",
      "text/plain": [
       "<Figure size 432x288 with 2 Axes>"
      ]
     },
     "metadata": {
      "needs_background": "light"
     },
     "output_type": "display_data"
    }
   ],
   "source": [
    "# Plot normalized confusion matrix\n",
    "plt.figure()\n",
    "plot_confusion_matrix(cnf_matrix, classes=[\"b\",\"c\",\"l\",\"g\"], normalize=True,\n",
    "                      title='Normalized confusion matrix')\n"
   ]
  },
  {
   "cell_type": "markdown",
   "metadata": {},
   "source": [
    "(In questo caso la prima entrata significa che il 54% dei b-jet è stato correttamente ipotizzato...)"
   ]
  },
  {
   "cell_type": "markdown",
   "metadata": {},
   "source": [
    "Con la matrice normalizzata la scala di colori assume un senso. Per avere un buon modello dovremmo sperare che la diagonale della matrice sia colorata con colori freddi mentre tutto il resto con colori caldi, va da sé che non è questo il caso."
   ]
  },
  {
   "cell_type": "markdown",
   "metadata": {},
   "source": [
    "__Specificare perché le conclusioni che si traggono guardando la matrice sono le stesse che si evincono guardando il grafico della ROC__"
   ]
  }
 ],
 "metadata": {
  "colab": {
   "collapsed_sections": [],
   "name": "keras_DNN.ipynb",
   "provenance": []
  },
  "kernelspec": {
   "display_name": "Python 3",
   "language": "python",
   "name": "python3"
  },
  "language_info": {
   "codemirror_mode": {
    "name": "ipython",
    "version": 3
   },
   "file_extension": ".py",
   "mimetype": "text/x-python",
   "name": "python",
   "nbconvert_exporter": "python",
   "pygments_lexer": "ipython3",
   "version": "3.7.3"
  }
 },
 "nbformat": 4,
 "nbformat_minor": 1
}
